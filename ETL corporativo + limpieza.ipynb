{
 "cells": [
  {
   "cell_type": "markdown",
   "id": "4bf4c2b8",
   "metadata": {},
   "source": [
    "## ETL CORPORATIVO"
   ]
  },
  {
   "cell_type": "code",
   "execution_count": 1,
   "id": "668e8005",
   "metadata": {},
   "outputs": [],
   "source": [
    "import pandas as pd"
   ]
  },
  {
   "cell_type": "code",
   "execution_count": null,
   "id": "c89e9815",
   "metadata": {},
   "outputs": [],
   "source": [
    "df = pd.read_excel('etllimpieza.xlsx')\n",
    "df.head()"
   ]
  },
  {
   "cell_type": "code",
   "execution_count": null,
   "id": "3eff7ad0",
   "metadata": {},
   "outputs": [],
   "source": [
    "import pandas as pd\n",
    "\n",
    "# Define la ruta del archivo .xlsx que deseas leer\n",
    "ruta_archivo = 'etllimpieza.xlsx'\n",
    "\n",
    "# Carga todas las pestañas del archivo .xlsx en un diccionario\n",
    "diccionario_dataframes = pd.read_excel(ruta_archivo, sheet_name=None)\n",
    "\n",
    "# Crea un dataframe por cada pestaña del archivo .xlsx\n",
    "dataframe1 = diccionario_dataframes['empresa']\n",
    "dataframe2 = diccionario_dataframes['industria']\n",
    "dataframe3 = diccionario_dataframes['company']\n",
    "dataframe3.head()"
   ]
  },
  {
   "cell_type": "code",
   "execution_count": null,
   "id": "c7dcf13f",
   "metadata": {},
   "outputs": [],
   "source": [
    "phraseList=dataframe3['Name'].tolist()\n",
    "phrase_list = [[row] for row in dataframe3['Name'].tolist()]"
   ]
  },
  {
   "cell_type": "code",
   "execution_count": null,
   "id": "534c63a4",
   "metadata": {},
   "outputs": [],
   "source": [
    "class SimilarStringFinder:\n",
    "    def __init__(self, target_phrase, phrase_list, min_score=0):\n",
    "        self.target_phrase = target_phrase\n",
    "        self.phrase_list = phrase_list\n",
    "        self.scores = None\n",
    "        self.min_score = min_score\n",
    "        self.best_match = {\"phrase\": None, \"score\": None}\n",
    "        self.find_scores()\n",
    "\n",
    "    def find_scores(self):\n",
    "        self.scores = [\n",
    "            {\"phrase\": phrase[0], \"score\": string_similarity(self.target_phrase, phrase[0])}\n",
    "            for phrase in self.phrase_list\n",
    "        ]\n",
    "\n",
    "        for current_match in self.scores:\n",
    "            if current_match[\"score\"] < self.min_score:\n",
    "                continue\n",
    "\n",
    "            if (\n",
    "                self.best_match[\"score\"] is None\n",
    "                or self.best_match[\"score\"] < current_match[\"score\"]\n",
    "            ):\n",
    "                self.best_match = current_match\n",
    "\n",
    "    def get_best_match(self):\n",
    "        return self.best_match[\"phrase\"]\n",
    "\n",
    "def string_similarity(str1, str2, substring_length=2, case_sensitive=False):\n",
    "    if not case_sensitive:\n",
    "        str1 = str1.lower()\n",
    "        str2 = str2.lower()\n",
    "\n",
    "    if len(str1) < substring_length or len(str2) < substring_length:\n",
    "        return 0\n",
    "\n",
    "    map = {}\n",
    "    for i in range(len(str1) - (substring_length - 1)):\n",
    "        substr1 = str1[i : i + substring_length]\n",
    "        map[substr1] = map.get(substr1, 0) + 1\n",
    "\n",
    "    match = 0\n",
    "    for j in range(len(str2) - (substring_length - 1)):\n",
    "        substr2 = str2[j : j + substring_length]\n",
    "        count = map.get(substr2, 0)\n",
    "        if count > 0:\n",
    "            map[substr2] = count - 1\n",
    "            match += 1\n",
    "\n",
    "    return (match * 2) / (len(str1) + len(str2) - ((substring_length - 1) * 2))"
   ]
  },
  {
   "cell_type": "code",
   "execution_count": null,
   "id": "8b15a88b",
   "metadata": {},
   "outputs": [],
   "source": [
    "email_prov_list = []\n",
    "\n",
    "df['0,65'] = df['Name'].apply(lambda x: SimilarStringFinder(str(x), phrase_list, 0.65).get_best_match() if str(x) else '')\n",
    "\n",
    "# Exportar el dataframe a un archivo de Excel\n",
    "df.to_excel(\"0_65.xlsx\", index=False)"
   ]
  }
 ],
 "metadata": {
  "kernelspec": {
   "display_name": "Python 3 (ipykernel)",
   "language": "python",
   "name": "python3"
  },
  "language_info": {
   "codemirror_mode": {
    "name": "ipython",
    "version": 3
   },
   "file_extension": ".py",
   "mimetype": "text/x-python",
   "name": "python",
   "nbconvert_exporter": "python",
   "pygments_lexer": "ipython3",
   "version": "3.9.13"
  }
 },
 "nbformat": 4,
 "nbformat_minor": 5
}
