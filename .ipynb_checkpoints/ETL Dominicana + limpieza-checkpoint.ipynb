{
 "cells": [
  {
   "cell_type": "markdown",
   "id": "4bf4c2b8",
   "metadata": {},
   "source": [
    "## ETL MEXICO"
   ]
  },
  {
   "cell_type": "code",
   "execution_count": 1,
   "id": "668e8005",
   "metadata": {},
   "outputs": [],
   "source": [
    "import pandas as pd\n",
    "import openpyxl\n",
    "from selenium import webdriver\n",
    "from bs4 import BeautifulSoup"
   ]
  },
  {
   "cell_type": "code",
   "execution_count": null,
   "id": "c89e9815",
   "metadata": {},
   "outputs": [],
   "source": [
    "df = pd.read_excel('google_crudo.xlsx')\n",
    "df.head()"
   ]
  },
  {
   "cell_type": "code",
   "execution_count": null,
   "id": "e4743e0e",
   "metadata": {},
   "outputs": [],
   "source": [
    "columna = 'website'\n",
    "datos_columna = df[columna]\n",
    "datos_columna"
   ]
  },
  {
   "cell_type": "code",
   "execution_count": null,
   "id": "498f6b64",
   "metadata": {},
   "outputs": [],
   "source": [
    "import time\n",
    "import re\n",
    "\n",
    "count = 0\n",
    "for i, link in enumerate(datos_columna):\n",
    "    if pd.isnull(link):\n",
    "        count = count + 1\n",
    "        print(count, \"null\")\n",
    "        continue\n",
    "    count = count + 1\n",
    "    print(count)\n",
    "    try:\n",
    "        driver = webdriver.Chrome()\n",
    "        driver.get(link)\n",
    "        time.sleep(2) # Agrega una pausa de dos segundos\n",
    "        source_code = driver.page_source\n",
    "        emails = re.findall(r'\\b[A-Za-z0-9._%+-]+@[A-Za-z0-9.-]+\\.[A-Z|a-z]{2,}\\b', source_code)\n",
    "        phones_found = re.findall(r\"\\+5?\\s?2\\s?\\d\\s?\\d\\s?\\d\\s?\\d\\s?\\d\\s?\\d\\s?\\d\\s?\\d\\s?\\d\", source_code)\n",
    "        print(link,\" \",emails,\" \",phones_found)\n",
    "        df.loc[i, 'correos'] = ', '.join(emails)\n",
    "        df.loc[i, 'telefonos'] = ', '.join(phones_found)\n",
    "        df.to_excel(\"Prueba.xlsx\", index=False)\n",
    "        driver.quit()\n",
    "    except:\n",
    "        print(f\"Error: La URL {link} no se puede cargar\")\n",
    "        df.to_excel(\"Prueba.xlsx\", index=False)"
   ]
  },
  {
   "cell_type": "markdown",
   "id": "cd4581f4",
   "metadata": {},
   "source": [
    "## Limpieza"
   ]
  },
  {
   "cell_type": "code",
   "execution_count": 2,
   "id": "f592162e",
   "metadata": {
    "scrolled": true
   },
   "outputs": [
    {
     "name": "stderr",
     "output_type": "stream",
     "text": [
      "C:\\Users\\Administrador\\AppData\\Local\\Temp\\ipykernel_95156\\2870671129.py:9: FutureWarning: The default value of regex will change from True to False in a future version.\n",
      "  df['name'] = df['name'].str.replace(r'[^\\w\\s]','').str.upper()\n"
     ]
    }
   ],
   "source": [
    "import pandas as pd\n",
    "from openpyxl import Workbook\n",
    "from openpyxl.utils.dataframe import dataframe_to_rows\n",
    "\n",
    "# Leer el archivo Excel\n",
    "df = pd.read_excel(\"etllimpieza.xlsx\")\n",
    "\n",
    "# Transformar la columna 'institución'\n",
    "df['name'] = df['name'].str.replace(r'[^\\w\\s]','').str.upper()\n",
    "\n",
    "# Escribir los datos transformados en un nuevo archivo Excel\n",
    "wb = Workbook()\n",
    "ws = wb.active\n",
    "for r in dataframe_to_rows(df, index=False, header=True):\n",
    "    ws.append(r)\n",
    "wb.save(\"etllimpieza.xlsx\")"
   ]
  },
  {
   "cell_type": "markdown",
   "id": "44e993c4",
   "metadata": {},
   "source": [
    "## Traducir a español "
   ]
  },
  {
   "cell_type": "code",
   "execution_count": null,
   "id": "03561a97",
   "metadata": {
    "scrolled": true
   },
   "outputs": [],
   "source": [
    "!pip install googletrans==4.0.0-rc1\n",
    "import pandas as pd\n",
    "from googletrans import Translator\n",
    "\n",
    "# Cargar el archivo Excel\n",
    "df = pd.read_excel('etllimpieza.xlsx')\n",
    "# Crear el objeto Translator\n",
    "translator = Translator()\n",
    "count = 0\n",
    "\n",
    "# Crear una función para traducir una fila de la columna \"institucion\"\n",
    "def traducir_institucion(row):\n",
    "    global count  # Declarar la variable como global\n",
    "    try:\n",
    "        print(df)\n",
    "        institucion = row['name']\n",
    "        idioma_origen = translator.detect(institucion).lang\n",
    "        if idioma_origen == 'en':\n",
    "            count = count + 1\n",
    "            print(count)\n",
    "            institucion_tras = translator.translate(institucion, src='en', dest='es').text\n",
    "        else:\n",
    "            institucion_tras = institucion\n",
    "    except:\n",
    "        institucion_tras = institucion\n",
    "    return institucion_tras\n",
    "\n",
    "# Aplicar la función a cada fila de la columna \"institucion\" y guardar los resultados en una nueva columna \"institucion_tras\"\n",
    "df['institucion_tras'] = df.apply(traducir_institucion, axis=1)\n",
    "\n",
    "# Sobrescribir el archivo Excel con las nuevas columnas\n",
    "df.to_excel('etllimpieza.xlsx', index=False)"
   ]
  },
  {
   "cell_type": "markdown",
   "id": "e027cf10",
   "metadata": {},
   "source": [
    "## Limpiar correo y telefono"
   ]
  },
  {
   "cell_type": "code",
   "execution_count": 3,
   "id": "4506323b",
   "metadata": {},
   "outputs": [
    {
     "ename": "KeyError",
     "evalue": "'correos'",
     "output_type": "error",
     "traceback": [
      "\u001b[1;31m---------------------------------------------------------------------------\u001b[0m",
      "\u001b[1;31mKeyError\u001b[0m                                  Traceback (most recent call last)",
      "\u001b[1;32mC:\\ProgramData\\Anaconda3\\lib\\site-packages\\pandas\\core\\indexes\\base.py\u001b[0m in \u001b[0;36mget_loc\u001b[1;34m(self, key, method, tolerance)\u001b[0m\n\u001b[0;32m   3628\u001b[0m             \u001b[1;32mtry\u001b[0m\u001b[1;33m:\u001b[0m\u001b[1;33m\u001b[0m\u001b[1;33m\u001b[0m\u001b[0m\n\u001b[1;32m-> 3629\u001b[1;33m                 \u001b[1;32mreturn\u001b[0m \u001b[0mself\u001b[0m\u001b[1;33m.\u001b[0m\u001b[0m_engine\u001b[0m\u001b[1;33m.\u001b[0m\u001b[0mget_loc\u001b[0m\u001b[1;33m(\u001b[0m\u001b[0mcasted_key\u001b[0m\u001b[1;33m)\u001b[0m\u001b[1;33m\u001b[0m\u001b[1;33m\u001b[0m\u001b[0m\n\u001b[0m\u001b[0;32m   3630\u001b[0m             \u001b[1;32mexcept\u001b[0m \u001b[0mKeyError\u001b[0m \u001b[1;32mas\u001b[0m \u001b[0merr\u001b[0m\u001b[1;33m:\u001b[0m\u001b[1;33m\u001b[0m\u001b[1;33m\u001b[0m\u001b[0m\n",
      "\u001b[1;32mC:\\ProgramData\\Anaconda3\\lib\\site-packages\\pandas\\_libs\\index.pyx\u001b[0m in \u001b[0;36mpandas._libs.index.IndexEngine.get_loc\u001b[1;34m()\u001b[0m\n",
      "\u001b[1;32mC:\\ProgramData\\Anaconda3\\lib\\site-packages\\pandas\\_libs\\index.pyx\u001b[0m in \u001b[0;36mpandas._libs.index.IndexEngine.get_loc\u001b[1;34m()\u001b[0m\n",
      "\u001b[1;32mpandas\\_libs\\hashtable_class_helper.pxi\u001b[0m in \u001b[0;36mpandas._libs.hashtable.PyObjectHashTable.get_item\u001b[1;34m()\u001b[0m\n",
      "\u001b[1;32mpandas\\_libs\\hashtable_class_helper.pxi\u001b[0m in \u001b[0;36mpandas._libs.hashtable.PyObjectHashTable.get_item\u001b[1;34m()\u001b[0m\n",
      "\u001b[1;31mKeyError\u001b[0m: 'correos'",
      "\nThe above exception was the direct cause of the following exception:\n",
      "\u001b[1;31mKeyError\u001b[0m                                  Traceback (most recent call last)",
      "\u001b[1;32m~\\AppData\\Local\\Temp\\ipykernel_95156\\235199751.py\u001b[0m in \u001b[0;36m<module>\u001b[1;34m\u001b[0m\n\u001b[0;32m      6\u001b[0m \u001b[1;33m\u001b[0m\u001b[0m\n\u001b[0;32m      7\u001b[0m \u001b[1;31m# Procesar la columna 'Correos'\u001b[0m\u001b[1;33m\u001b[0m\u001b[1;33m\u001b[0m\u001b[0m\n\u001b[1;32m----> 8\u001b[1;33m \u001b[0mdf\u001b[0m\u001b[1;33m[\u001b[0m\u001b[1;34m'correos'\u001b[0m\u001b[1;33m]\u001b[0m \u001b[1;33m=\u001b[0m \u001b[0mdf\u001b[0m\u001b[1;33m[\u001b[0m\u001b[1;34m'correos'\u001b[0m\u001b[1;33m]\u001b[0m\u001b[1;33m.\u001b[0m\u001b[0mstr\u001b[0m\u001b[1;33m.\u001b[0m\u001b[0mstrip\u001b[0m\u001b[1;33m(\u001b[0m\u001b[1;34m'[]'\u001b[0m\u001b[1;33m)\u001b[0m\u001b[1;33m.\u001b[0m\u001b[0mstr\u001b[0m\u001b[1;33m.\u001b[0m\u001b[0msplit\u001b[0m\u001b[1;33m(\u001b[0m\u001b[1;34m', '\u001b[0m\u001b[1;33m)\u001b[0m\u001b[1;33m.\u001b[0m\u001b[0mstr\u001b[0m\u001b[1;33m[\u001b[0m\u001b[1;36m0\u001b[0m\u001b[1;33m]\u001b[0m\u001b[1;33m.\u001b[0m\u001b[0mstr\u001b[0m\u001b[1;33m.\u001b[0m\u001b[0mstrip\u001b[0m\u001b[1;33m(\u001b[0m\u001b[1;34m\"'\"\u001b[0m\u001b[1;33m)\u001b[0m\u001b[1;33m\u001b[0m\u001b[1;33m\u001b[0m\u001b[0m\n\u001b[0m\u001b[0;32m      9\u001b[0m \u001b[0mdf\u001b[0m\u001b[1;33m[\u001b[0m\u001b[1;34m'international_phone_number'\u001b[0m\u001b[1;33m]\u001b[0m \u001b[1;33m=\u001b[0m \u001b[0mdf\u001b[0m\u001b[1;33m[\u001b[0m\u001b[1;34m'international_phone_number'\u001b[0m\u001b[1;33m]\u001b[0m\u001b[1;33m.\u001b[0m\u001b[0mastype\u001b[0m\u001b[1;33m(\u001b[0m\u001b[0mstr\u001b[0m\u001b[1;33m)\u001b[0m\u001b[1;33m\u001b[0m\u001b[1;33m\u001b[0m\u001b[0m\n\u001b[0;32m     10\u001b[0m \u001b[0mdf_telefonos\u001b[0m \u001b[1;33m=\u001b[0m \u001b[0mdf\u001b[0m\u001b[1;33m[\u001b[0m\u001b[1;34m'international_phone_number'\u001b[0m\u001b[1;33m]\u001b[0m\u001b[1;33m\u001b[0m\u001b[1;33m\u001b[0m\u001b[0m\n",
      "\u001b[1;32mC:\\ProgramData\\Anaconda3\\lib\\site-packages\\pandas\\core\\frame.py\u001b[0m in \u001b[0;36m__getitem__\u001b[1;34m(self, key)\u001b[0m\n\u001b[0;32m   3503\u001b[0m             \u001b[1;32mif\u001b[0m \u001b[0mself\u001b[0m\u001b[1;33m.\u001b[0m\u001b[0mcolumns\u001b[0m\u001b[1;33m.\u001b[0m\u001b[0mnlevels\u001b[0m \u001b[1;33m>\u001b[0m \u001b[1;36m1\u001b[0m\u001b[1;33m:\u001b[0m\u001b[1;33m\u001b[0m\u001b[1;33m\u001b[0m\u001b[0m\n\u001b[0;32m   3504\u001b[0m                 \u001b[1;32mreturn\u001b[0m \u001b[0mself\u001b[0m\u001b[1;33m.\u001b[0m\u001b[0m_getitem_multilevel\u001b[0m\u001b[1;33m(\u001b[0m\u001b[0mkey\u001b[0m\u001b[1;33m)\u001b[0m\u001b[1;33m\u001b[0m\u001b[1;33m\u001b[0m\u001b[0m\n\u001b[1;32m-> 3505\u001b[1;33m             \u001b[0mindexer\u001b[0m \u001b[1;33m=\u001b[0m \u001b[0mself\u001b[0m\u001b[1;33m.\u001b[0m\u001b[0mcolumns\u001b[0m\u001b[1;33m.\u001b[0m\u001b[0mget_loc\u001b[0m\u001b[1;33m(\u001b[0m\u001b[0mkey\u001b[0m\u001b[1;33m)\u001b[0m\u001b[1;33m\u001b[0m\u001b[1;33m\u001b[0m\u001b[0m\n\u001b[0m\u001b[0;32m   3506\u001b[0m             \u001b[1;32mif\u001b[0m \u001b[0mis_integer\u001b[0m\u001b[1;33m(\u001b[0m\u001b[0mindexer\u001b[0m\u001b[1;33m)\u001b[0m\u001b[1;33m:\u001b[0m\u001b[1;33m\u001b[0m\u001b[1;33m\u001b[0m\u001b[0m\n\u001b[0;32m   3507\u001b[0m                 \u001b[0mindexer\u001b[0m \u001b[1;33m=\u001b[0m \u001b[1;33m[\u001b[0m\u001b[0mindexer\u001b[0m\u001b[1;33m]\u001b[0m\u001b[1;33m\u001b[0m\u001b[1;33m\u001b[0m\u001b[0m\n",
      "\u001b[1;32mC:\\ProgramData\\Anaconda3\\lib\\site-packages\\pandas\\core\\indexes\\base.py\u001b[0m in \u001b[0;36mget_loc\u001b[1;34m(self, key, method, tolerance)\u001b[0m\n\u001b[0;32m   3629\u001b[0m                 \u001b[1;32mreturn\u001b[0m \u001b[0mself\u001b[0m\u001b[1;33m.\u001b[0m\u001b[0m_engine\u001b[0m\u001b[1;33m.\u001b[0m\u001b[0mget_loc\u001b[0m\u001b[1;33m(\u001b[0m\u001b[0mcasted_key\u001b[0m\u001b[1;33m)\u001b[0m\u001b[1;33m\u001b[0m\u001b[1;33m\u001b[0m\u001b[0m\n\u001b[0;32m   3630\u001b[0m             \u001b[1;32mexcept\u001b[0m \u001b[0mKeyError\u001b[0m \u001b[1;32mas\u001b[0m \u001b[0merr\u001b[0m\u001b[1;33m:\u001b[0m\u001b[1;33m\u001b[0m\u001b[1;33m\u001b[0m\u001b[0m\n\u001b[1;32m-> 3631\u001b[1;33m                 \u001b[1;32mraise\u001b[0m \u001b[0mKeyError\u001b[0m\u001b[1;33m(\u001b[0m\u001b[0mkey\u001b[0m\u001b[1;33m)\u001b[0m \u001b[1;32mfrom\u001b[0m \u001b[0merr\u001b[0m\u001b[1;33m\u001b[0m\u001b[1;33m\u001b[0m\u001b[0m\n\u001b[0m\u001b[0;32m   3632\u001b[0m             \u001b[1;32mexcept\u001b[0m \u001b[0mTypeError\u001b[0m\u001b[1;33m:\u001b[0m\u001b[1;33m\u001b[0m\u001b[1;33m\u001b[0m\u001b[0m\n\u001b[0;32m   3633\u001b[0m                 \u001b[1;31m# If we have a listlike key, _check_indexing_error will raise\u001b[0m\u001b[1;33m\u001b[0m\u001b[1;33m\u001b[0m\u001b[0m\n",
      "\u001b[1;31mKeyError\u001b[0m: 'correos'"
     ]
    }
   ],
   "source": [
    "import re\n",
    "import pandas as pd\n",
    "\n",
    "# Leer el archivo Excel\n",
    "df = pd.read_excel(\"etllimpieza.xlsx\")\n",
    "\n",
    "# Procesar la columna 'Correos'\n",
    "df['correos'] = df['correos'].str.strip('[]').str.split(', ').str[0].str.strip(\"'\")\n",
    "df['international_phone_number'] = df['international_phone_number'].astype(str)\n",
    "df_telefonos = df['international_phone_number']\n",
    "df_telefonos_limpio = df_telefonos.apply(lambda x: re.sub(r'[^\\d\\,]', '', x.split(',')[0]).replace(' ', ''))\n",
    "df['international_phone_number'] = df_telefonos_limpio\n",
    "df['international_phone_number'] = df['international_phone_number'].astype(str)\n",
    "df_telefonos = df['international_phone_number']\n",
    "df_telefonos_limpio = df_telefonos.apply(lambda x: re.sub(r'[^\\d\\,]', '', x.split(',')[0]).replace(' ', ''))\n",
    "df['international_phone_number'] = df_telefonos_limpio\n",
    "\n",
    "df['telefonos'] = df['telefonos'].astype(str)\n",
    "df_telefonos = df['telefonos']\n",
    "df_telefonos_limpio = df_telefonos.apply(lambda x: re.sub(r'[^\\d\\,]', '', x.split(',')[0]).replace(' ', ''))\n",
    "df['telefonos'] = df_telefonos_limpio\n",
    "df['telefonos'] = df['telefonos'].astype(str)\n",
    "df_telefonos = df['telefonos']\n",
    "df_telefonos_limpio = df_telefonos.apply(lambda x: re.sub(r'[^\\d\\,]', '', x.split(',')[0]).replace(' ', ''))\n",
    "df['telefonos'] = df_telefonos_limpio\n",
    "\n",
    "# Guardar los datos transformados en un nuevo archivo Excel\n",
    "df.to_excel(\"etllimpieza.xlsx\", index=False)"
   ]
  },
  {
   "cell_type": "code",
   "execution_count": null,
   "id": "a41aa78a",
   "metadata": {},
   "outputs": [],
   "source": [
    "import numpy as np\n",
    "import pandas as pd\n",
    "\n",
    "df = pd.read_excel('etllimpieza.xlsx')\n",
    "\n",
    "df['telefonos'] = df['telefonos'].astype(str)\n",
    "df.loc[df['telefonos'].str.startswith('52'), 'telefonos'] = df['telefonos'].str[2:]\n",
    "df['telefonos'].replace(0, np.nan, inplace=True) # Reemplaza 0 por NaN\n",
    "df['telefonos'] = df['telefonos'].astype(str)\n",
    "df.dropna(subset=['telefonos'], inplace=True) # Elimina filas que contengan NaN\n",
    "\n",
    "df['international_phone_number'] = df['international_phone_number'].astype(str)\n",
    "df.loc[df['international_phone_number'].str.startswith('52'), 'international_phone_number'] = df['international_phone_number'].str[2:]\n",
    "df['international_phone_number'].replace(0, np.nan, inplace=True) # Reemplaza 0 por NaN\n",
    "df['international_phone_number'] = df['international_phone_number'].astype(str)\n",
    "df.dropna(subset=['international_phone_number'], inplace=True) # Elimina filas que contengan NaN\n",
    "\n",
    "df.to_excel('etllimpieza.xlsx', index=False)"
   ]
  },
  {
   "cell_type": "markdown",
   "id": "cefd8ed8",
   "metadata": {},
   "source": [
    "## a mano borrar .0"
   ]
  },
  {
   "cell_type": "markdown",
   "id": "ff62df39",
   "metadata": {},
   "source": [
    "## crear correo"
   ]
  },
  {
   "cell_type": "code",
   "execution_count": null,
   "id": "ab2f25eb",
   "metadata": {},
   "outputs": [],
   "source": [
    "import pandas as pd\n",
    "\n",
    "df = pd.read_excel('etllimpieza.xlsx')\n",
    "df = df.assign(email_prov=df['website'])\n",
    "df['email_prov'] = df['email_prov'].str.replace(r'^(https://www\\.|http://www\\.|http://|https://|www\\.)', '', regex=True)\n",
    "df['email_prov'] = df['email_prov'].str.split('/').str[0]\n",
    "df['email_prov'] = 'info@' + df['email_prov']\n",
    "mask = df['email_prov'].str.contains('facebook', case=False, na=False)\n",
    "df.loc[mask, 'email_prov'] = ''\n",
    "df.to_excel('etllimpieza.xlsx', index=False)"
   ]
  },
  {
   "cell_type": "code",
   "execution_count": null,
   "id": "776026b7",
   "metadata": {},
   "outputs": [],
   "source": [
    "import pandas as pd\n",
    "\n",
    "df = pd.read_excel('etllimpieza.xlsx')\n",
    "\n",
    "df['email_netsuit'] = df.apply(lambda row: row['correos'] if pd.notna(row['correos']) else row['email_prov'], axis=1)\n",
    "df['verdadero'] = ''\n",
    "df.loc[df['email_netsuit'] == df['email_prov'], 'verdadero'] = False\n",
    "\n",
    "df.to_excel('etllimpieza.xlsx', index=False)"
   ]
  }
 ],
 "metadata": {
  "kernelspec": {
   "display_name": "Python 3 (ipykernel)",
   "language": "python",
   "name": "python3"
  },
  "language_info": {
   "codemirror_mode": {
    "name": "ipython",
    "version": 3
   },
   "file_extension": ".py",
   "mimetype": "text/x-python",
   "name": "python",
   "nbconvert_exporter": "python",
   "pygments_lexer": "ipython3",
   "version": "3.9.13"
  }
 },
 "nbformat": 4,
 "nbformat_minor": 5
}
